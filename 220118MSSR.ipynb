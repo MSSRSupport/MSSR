{
 "cells": [
  {
   "cell_type": "code",
   "execution_count": 1,
   "id": "9457e740",
   "metadata": {},
   "outputs": [],
   "source": [
    "import numpy as np\n",
    "import scipy\n",
    "import matplotlib.pyplot as plt\n",
    "import napari\n",
    "from skimage.io import imread\n",
    "import math\n",
    "import scipy.interpolate as interpolate"
   ]
  },
  {
   "cell_type": "code",
   "execution_count": 2,
   "id": "7af12aa1",
   "metadata": {},
   "outputs": [],
   "source": [
    "def bicInter(img, amp, mesh):\n",
    "    width, height = img.shape\n",
    "    x=np.linspace(1, width, width)\n",
    "    y=np.linspace(1, height, height)\n",
    "    imgInter=interpolate.interp2d(x, y, img, kind='cubic')\n",
    "    x2=np.linspace(1, width, width*amp)\n",
    "    y2=np.linspace(1, height, height*amp)\n",
    "    Z2 = imgInter(x2, y2)\n",
    "    if mesh:\n",
    "        Z2 = meshing(Z2, amp)\n",
    "    return Z2"
   ]
  },
  {
   "cell_type": "code",
   "execution_count": 3,
   "id": "29089a3d",
   "metadata": {},
   "outputs": [],
   "source": [
    "#Mesh compensation\n",
    "def meshing(img, amp):\n",
    "    width, height = img.shape\n",
    "    desp = math.ceil(amp/2)\n",
    "    imgPad = np.pad(img, desp, 'symmetric')\n",
    "    imgS1 = imgPad[0:width, desp:height+desp]\n",
    "    imgS2 = imgPad[(desp*2):width+(desp*2), desp:height+desp]\n",
    "    imgS3 = imgPad[desp:width+desp, 0:height]\n",
    "    imgS4 = imgPad[desp:width+desp, (desp*2):height+(desp*2)]\n",
    "    imgF = (img + imgS1 + imgS2 + imgS3 + imgS4) / 5\n",
    "    return imgF"
   ]
  },
  {
   "cell_type": "code",
   "execution_count": 4,
   "id": "596c5ff6",
   "metadata": {},
   "outputs": [],
   "source": [
    "#Spatial MSSR\n",
    "def MSSR(img, psf, amp, order, mesh):\n",
    "#    img = np.rot90(img, 1)\n",
    "#    print(img[10,10])\n",
    "    hs = round(0.4*psf*amp)\n",
    "    maxValueImgOr = (max(map(max, img)))\n",
    "    if(amp > 1):\n",
    "        img = bicInter(img, amp, mesh)\n",
    "    width, height = img.shape\n",
    "    xPad = np.pad(img, hs, 'symmetric')\n",
    "    M = np.zeros((width,height))\n",
    "    for i in range(-hs, hs+1):\n",
    "        for j in range(-hs, hs+1):\n",
    "            if i!=0 or j!=0:\n",
    "                xThis = xPad[hs+i:width+hs+i, hs+j:height+hs+j]\n",
    "                M = np.maximum(M, np.absolute(img-xThis))\n",
    "    \n",
    "    weightAccum = np.zeros((width,height))\n",
    "    yAccum = np.zeros((width,height))\n",
    "    \n",
    "    for i in range(-hs, hs+1):\n",
    "        for j in range(-hs, hs+1):\n",
    "            if i!=0 or j!=0:\n",
    "                spatialkernel = np.exp(-(pow(i,2)+pow(j,2))/pow((hs),2))\n",
    "                xThis = xPad[hs+i:width+hs+i, hs+j:height+hs+j]\n",
    "                xDiffSq0 = pow((img-xThis)/M,2)\n",
    "                intensityKernel = np.exp(-xDiffSq0)\n",
    "\n",
    "                weightThis = spatialkernel*intensityKernel\n",
    "                weightAccum = weightAccum + weightThis\n",
    "                yAccum = yAccum + (xThis*weightThis)\n",
    "    \n",
    "    MS = img - (yAccum/weightAccum)\n",
    "    MS[MS < 0] = 0\n",
    "    MS[np.isnan(MS)] = 0\n",
    "    \n",
    "    I3 = MS/(max(map(max, MS)))\n",
    "    x3 = img/(max(map(max, img)))\n",
    "    for i in range(order):\n",
    "        I4 = x3 - I3\n",
    "        I5 = max(map(max, I4)) - I4\n",
    "        I5 = I5/max(map(max, I5))\n",
    "        I6 = I5*I3\n",
    "        I7 = I6/max(map(max, I6))\n",
    "        x3 = I3\n",
    "        I3 = I7\n",
    "    I3[np.isnan(I3)] = 0\n",
    "#    I3 = np.rot90(I3, 3)\n",
    "    IMSSR = I3*maxValueImgOr\n",
    "    return I3"
   ]
  },
  {
   "cell_type": "code",
   "execution_count": 5,
   "id": "d7a76c8d",
   "metadata": {},
   "outputs": [],
   "source": [
    "#Temporal MSSR\n",
    "def TMSSR(img, psf, amp, order, mesh):\n",
    "    nFrames, width, height = img.shape\n",
    "    imgMSSR = np.zeros((nFrames,width*amp,height*amp))\n",
    "    for nI in range(nFrames):\n",
    "        imgMSSR[nI, :, :] = MSSR(img_raw[nI], psf, amp, order, mesh)\n",
    "    return imgMSSR"
   ]
  },
  {
   "cell_type": "code",
   "execution_count": 6,
   "id": "c65004c8",
   "metadata": {},
   "outputs": [],
   "source": [
    "#Temporal Product Mean\n",
    "def TPM(img):\n",
    "    nFrames, width, height = img.shape\n",
    "    SumTPM = np.zeros((width,height))\n",
    "    iTPM = np.zeros((width,height))\n",
    "    for i in range(nFrames):\n",
    "        SumTPM = SumTPM + img[i]\n",
    "    for i in range(nFrames):\n",
    "        iTPM = iTPM + (SumTPM * img[i])\n",
    "    return iTPM"
   ]
  },
  {
   "cell_type": "code",
   "execution_count": 7,
   "id": "cce9ebe8",
   "metadata": {},
   "outputs": [],
   "source": [
    "#Auto-Cummulants\n",
    "def TRAC(img, k):\n",
    "    nFrames, width, height = img.shape\n",
    "    avg = np.mean(img, 0)\n",
    "    d0 = np.absolute(img - avg)\n",
    "    d1 = d0[1:nFrames, :, :]\n",
    "    d2 = d0[2:nFrames, :, :]\n",
    "    d3 = d0[3:nFrames, :, :]\n",
    "    if k == 2:\n",
    "        trac = np.mean(d0[1:nFrames, :, :]*d1,0)\n",
    "    elif k == 3:\n",
    "        trac = np.mean(d0[2:nFrames, :, :]*d1[1:nFrames, :, :]*d2,0)\n",
    "    else:\n",
    "        t1 = np.mean(d0[3:nFrames, :, :]*d1[2:nFrames, :, :]*d2[1:nFrames, :, :]*d3,0)\n",
    "        t2 = np.mean(d0[3:nFrames, :, :]*d1[2:nFrames, :, :],0)*np.mean(d2[1:nFrames, :, :]*d3,0)\n",
    "        t3 = np.mean(d0[3:nFrames, :, :]*d2[1:nFrames, :, :],0)*np.mean(d1[2:nFrames, :, :]*d3,0)\n",
    "        t4 = np.mean(d0[3:nFrames, :, :]*d3,0)*np.mean(d1[2:nFrames, :, :]*d2[1:nFrames, :, :],0)\n",
    "        trac = np.absolute(t1-t2-t3-t4)\n",
    "    return trac"
   ]
  },
  {
   "cell_type": "code",
   "execution_count": 8,
   "id": "147c15c3",
   "metadata": {},
   "outputs": [],
   "source": [
    "#Parameters\n",
    "amp = 5\n",
    "psf = 3\n",
    "order = 0\n",
    "mesh = True"
   ]
  },
  {
   "cell_type": "code",
   "execution_count": 9,
   "id": "8bef9f10",
   "metadata": {},
   "outputs": [
    {
     "data": {
      "text/plain": [
       "<Image layer 'imgAmpMean' at 0x7fd77a5828e0>"
      ]
     },
     "execution_count": 9,
     "metadata": {},
     "output_type": "execute_result"
    }
   ],
   "source": [
    "img_raw = imread('raw7_100_PSFCHECK_561_DONUTS_33MS_5POWERL.tif')\n",
    "\n",
    "if 'viewer' not in globals():\n",
    "    viewer = napari.Viewer()\n",
    "viewer.add_image(img_raw, colormap = 'magma')\n",
    "\n",
    "imgRawMean = np.mean(img_raw, 0)\n",
    "viewer.add_image(imgRawMean, colormap = 'magma')\n",
    "imgAmpMean = bicInter(imgRawMean, amp, False)\n",
    "viewer.add_image(imgAmpMean, colormap = 'magma')"
   ]
  },
  {
   "cell_type": "code",
   "execution_count": 10,
   "id": "867a5f36",
   "metadata": {},
   "outputs": [
    {
     "data": {
      "text/plain": [
       "<matplotlib.image.AxesImage at 0x7fd779ddcb80>"
      ]
     },
     "execution_count": 10,
     "metadata": {},
     "output_type": "execute_result"
    },
    {
     "data": {
      "image/png": "[encoded data removed]",
      "text/plain": [
       "<Figure size 432x288 with 1 Axes>"
      ]
     },
     "metadata": {
      "needs_background": "light"
     },
     "output_type": "display_data"
    }
   ],
   "source": [
    "plt.imshow(imgAmpMean)"
   ]
  },
  {
   "cell_type": "code",
   "execution_count": 11,
   "id": "4b0bb042",
   "metadata": {},
   "outputs": [],
   "source": [
    "#Computing Temporal MSSR\n",
    "imgMSSR = TMSSR(img_raw, psf, amp, order, mesh)\n",
    "#print(imgMSSR.shape)\n"
   ]
  },
  {
   "cell_type": "code",
   "execution_count": 12,
   "id": "5ef6a416",
   "metadata": {},
   "outputs": [
    {
     "data": {
      "text/plain": [
       "<Image layer 'iTRAC4' at 0x7fd778716f10>"
      ]
     },
     "execution_count": 12,
     "metadata": {},
     "output_type": "execute_result"
    }
   ],
   "source": [
    "iMean = np.mean(imgMSSR, 0)\n",
    "viewer.add_image(iMean, colormap = 'magma')\n",
    "\n",
    "iVar = np.var(imgMSSR, 0)\n",
    "viewer.add_image(iVar, colormap = 'magma')\n",
    "\n",
    "iTPM = TPM(imgMSSR)\n",
    "viewer.add_image(iTPM, colormap = 'magma')\n",
    "\n",
    "iTRAC2 = TRAC(imgMSSR, 2)\n",
    "viewer.add_image(iTRAC2, colormap = 'magma')\n",
    "iTRAC3 = TRAC(imgMSSR, 3)\n",
    "viewer.add_image(iTRAC3, colormap = 'magma')\n",
    "iTRAC4 = TRAC(imgMSSR, 4)\n",
    "viewer.add_image(iTRAC4, colormap = 'magma')"
   ]
  },
  {
   "cell_type": "code",
   "execution_count": null,
   "id": "53273ca2",
   "metadata": {},
   "outputs": [],
   "source": []
  }
 ],
 "metadata": {
  "kernelspec": {
   "display_name": "Python 3 (ipykernel)",
   "language": "python",
   "name": "python3"
  },
  "language_info": {
   "codemirror_mode": {
    "name": "ipython",
    "version": 3
   },
   "file_extension": ".py",
   "mimetype": "text/x-python",
   "name": "python",
   "nbconvert_exporter": "python",
   "pygments_lexer": "ipython3",
   "version": "3.9.9"
  }
 },
 "nbformat": 4,
 "nbformat_minor": 5
}
